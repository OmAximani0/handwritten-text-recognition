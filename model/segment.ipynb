{
 "cells": [
  {
   "cell_type": "markdown",
   "metadata": {},
   "source": [
    "# Loading the model"
   ]
  },
  {
   "cell_type": "code",
   "execution_count": 33,
   "metadata": {},
   "outputs": [
    {
     "name": "stdout",
     "output_type": "stream",
     "text": [
      "Model successfully loaded\n"
     ]
    }
   ],
   "source": [
    "from tensorflow.keras.models import load_model #here the modeltrain file is loaded using load_model\n",
    "from tensorflow.keras.models import model_from_json #here the json file being used from modeltrain to extract the data using json format\n",
    "\n",
    "json_file = open('model.json', 'r') #here we reading the data which is stored in model.json\n",
    "loaded_model_json = json_file.read()\n",
    "json_file.close()\n",
    "loaded_model = model_from_json(loaded_model_json)\n",
    "\n",
    "\n",
    "loaded_model.load_weights('model.h5')\n",
    "\n",
    "model = loaded_model #here we are loading model.h5 file which stores all the information regarding training,testing dataset as well as accuracy of model.\n",
    "\n",
    "\n",
    "print('Model successfully loaded')"
   ]
  },
  {
   "cell_type": "markdown",
   "metadata": {},
   "source": [
    "# Word Classification"
   ]
  },
  {
   "cell_type": "code",
   "execution_count": 34,
   "metadata": {
    "scrolled": true
   },
   "outputs": [
    {
     "data": {
      "text/plain": [
       "<matplotlib.image.AxesImage at 0x27a01cc8508>"
      ]
     },
     "execution_count": 34,
     "metadata": {},
     "output_type": "execute_result"
    },
    {
     "data": {
      "image/png": "[encoded data removed]",
      "text/plain": [
       "<Figure size 432x288 with 1 Axes>"
      ]
     },
     "metadata": {
      "needs_background": "light"
     },
     "output_type": "display_data"
    }
   ],
   "source": [
    "import cv2 #it is used for capturing the image present in the dataset\n",
    "import numpy as np #NumPy is a Python library used for working with arrays\n",
    "from matplotlib import pyplot as plt  #matplotlib. pyplot is a collection of command style functions that make matplotlib work like MATLAB.\n",
    "%matplotlib inline \n",
    "\n",
    "characters = ['0','1','2','3','4','5','6','7','8','9','A','B','C','D','E','F','G','H','I','J','K','L','M','N','O','P','Q','R','S','T','U','V','W','X','Y','Z','a','b','c','d','e','f','g','h','i','j','k','l','m','n','o','p','q','r','s','t','u','v','w','x','y','z']\n",
    "\n",
    "\n",
    "#enter input image here\n",
    "image = cv2.imread('06.png') #image read \n",
    "height, width, depth = image.shape   #! \n",
    "\n",
    "#resizing the image to find spaces better\n",
    "image = cv2.resize(image, dsize=(width*5,height*4), interpolation=cv2.INTER_CUBIC)\n",
    "# grayscale\n",
    "gray = cv2.cvtColor(image,cv2.COLOR_BGR2GRAY) #cvtColor() method is used to convert an image from one color space to another\n",
    "\n",
    "\n",
    "\n",
    "#binary\n",
    "ret,thresh = cv2.threshold(gray,127,255,cv2.THRESH_BINARY_INV)\n",
    "\n",
    "\n",
    "#dilation #dilate() is an OpenCV function in Python that applies a morphological filter to images. The cv2. dilate() method takes two inputs, of which one is our input image; the second is called the structuring element or kernel, which decides the nature of the operation.\n",
    "kernel = np.ones((5,5), np.uint8) #numpy.ones() function returns a new array of given shape and type, with ones.\n",
    "img_dilation = cv2.dilate(thresh, kernel, iterations=1) #Dilation adds pixels to the boundaries of objects in an image,\n",
    "\n",
    "\n",
    "#adding GaussianBlur- GaussianBlur() method of cv2 library to blur an image. The blurring of an image means smoothening of an image i.e., removing outlier pixels that may be noise in the image.\n",
    "gsblur=cv2.GaussianBlur(img_dilation,(5,5),0)\n",
    "\n",
    "\n",
    "#find contours\n",
    "# im2\n",
    "ctrs, hier = cv2.findContours(gsblur.copy(), cv2.RETR_EXTERNAL, cv2.CHAIN_APPROX_SIMPLE) #detects changes in images and marks as a contours.\n",
    "\n",
    "m = list()\n",
    "#sort contours\n",
    "sorted_ctrs = sorted(ctrs, key=lambda ctr: cv2.boundingRect(ctr)[0]) #boundingRect() function is used to draw an approximate rectangle around the binary image. \n",
    "pchl = list()\n",
    "dp = image.copy()\n",
    "for i, ctr in enumerate(sorted_ctrs):\n",
    "    # Get bounding box\n",
    "    x, y, w, h = cv2.boundingRect(ctr)\n",
    "    cv2.rectangle(dp,(x-10,y-10),( x + w + 10, y + h + 10 ),(90,0,255),9)\n",
    "    \n",
    "plt.imshow(dp)"
   ]
  },
  {
   "cell_type": "code",
   "execution_count": 35,
   "metadata": {},
   "outputs": [
    {
     "name": "stdout",
     "output_type": "stream",
     "text": [
      "1/1 [==============================] - 0s 363ms/step\n"
     ]
    },
    {
     "data": {
      "image/png": "[encoded data removed]",
      "text/plain": [
       "<Figure size 144x144 with 1 Axes>"
      ]
     },
     "metadata": {
      "needs_background": "light"
     },
     "output_type": "display_data"
    },
    {
     "name": "stdout",
     "output_type": "stream",
     "text": [
      "Predicted String: J\n"
     ]
    }
   ],
   "source": [
    "\n",
    "for i, ctr in enumerate(sorted_ctrs):\n",
    "    # Get bounding box\n",
    "    x, y, w, h = cv2.boundingRect(ctr)\n",
    "    # Getting ROI\n",
    "    roi = image[y-10:y+h+10, x-10:x+w+10]\n",
    "    roi = cv2.resize(roi, dsize=(28,28), interpolation=cv2.INTER_CUBIC)\n",
    "    roi = cv2.cvtColor(roi,cv2.COLOR_BGR2GRAY)\n",
    "    \n",
    "    roi = np.array(roi)\n",
    "    t = np.copy(roi)\n",
    "    t = t / 255.0\n",
    "    t = 1-t\n",
    "    t = t.reshape(1,784)\n",
    "    \n",
    "    m.append(roi)\n",
    "    # pred = (model.predict(t) > 0.5).astype(\"int32\")\n",
    "    # pred = model.predict_classes(t)\n",
    "    pred = np.argmax(model.predict(t),axis=-1)\n",
    "    pchl.append(pred)\n",
    "\n",
    "if len(pchl)>1:   \n",
    "    pcw = list()\n",
    "    interp = 'bilinear'\n",
    "    fig, axs = plt.subplots(nrows=len(sorted_ctrs), sharex=True, figsize=(1,len(sorted_ctrs)))\n",
    "    for i in range(len(pchl)):\n",
    "        #print(pchl[i][0])\n",
    "        pcw.append(characters[pchl[i][0]])\n",
    "        axs[i].set_title('-------> predicted letter: '+characters[pchl[i][0]], x=2.5,y=0.24)\n",
    "        axs[i].imshow(m[i], interpolation=interp)\n",
    "    predstring = ''.join(pcw)\n",
    "    fig.savefig('../assets/predicted.png')\n",
    "    print('Predicted String: '+predstring)\n",
    "else:  \n",
    "\n",
    "    pcw = list()\n",
    "    interp = 'bilinear'\n",
    "    fig, axs = plt.subplots(nrows=1, sharex=True, figsize=(2,2))\n",
    "    pcw.append(characters[pred[0]])\n",
    "    axs.set_title('-------> predicted letter: '+characters[pred[0]] ,x=2.5,y=0.2)\n",
    "    axs.imshow(m[i], interpolation=interp)\n",
    "    plt.show()\n",
    "\n",
    "    predstring = ''.join(pcw)\n",
    "    fig.savefig('../assets/predicted.png')\n",
    "    print('Predicted String: '+predstring)  "
   ]
  },
  {
   "cell_type": "code",
   "execution_count": null,
   "metadata": {},
   "outputs": [],
   "source": []
  },
  {
   "cell_type": "markdown",
   "metadata": {},
   "source": [
    "##mutiple image working plot   \n",
    "for i, ctr in enumerate(sorted_ctrs):\n",
    "    # Get bounding box\n",
    "    x, y, w, h = cv2.boundingRect(ctr)\n",
    "    # Getting ROI\n",
    "    roi = image[y-10:y+h+10, x-10:x+w+10]\n",
    "    roi = cv2.resize(roi, dsize=(28,28), interpolation=cv2.INTER_CUBIC)\n",
    "    roi = cv2.cvtColor(roi,cv2.COLOR_BGR2GRAY)\n",
    "    \n",
    "    roi = np.array(roi)\n",
    "    t = np.copy(roi)\n",
    "    t = t / 255.0\n",
    "    t = 1-t\n",
    "    t = t.reshape(1,784)\n",
    "    \n",
    "    m.append(roi)\n",
    "    #pred = (model.predict(t) > 0.5).astype(\"int32\")\n",
    "    pred = model.predict_classes(t)\n",
    "    pchl.append(pred)\n",
    "\n",
    "    \n",
    "pcw = list()\n",
    "interp = 'bilinear'\n",
    "fig, axs = plt.subplots(nrows=len(sorted_ctrs), sharex=True, figsize=(1,len(sorted_ctrs)))\n",
    "for i in range(len(pchl)):\n",
    "    #print(pchl[i][0])\n",
    "    pcw.append(characters[pchl[i][0]])\n",
    "    axs[i].set_title('-------> predicted letter: '+characters[pchl[i][0]], x=2.5,y=0.24)\n",
    "    axs[i].imshow(m[i], interpolation=interp)\n",
    "\n",
    "plt.show()\n",
    "\n",
    "\n",
    "predstring = ''.join(pcw)\n",
    "print('Predicted String: '+predstring)"
   ]
  },
  {
   "cell_type": "markdown",
   "metadata": {},
   "source": [
    "#single image working plot    \n",
    "for i, ctr in enumerate(sorted_ctrs):\n",
    "    # Get bounding box\n",
    "    x, y, w, h = cv2.boundingRect(ctr)\n",
    "    # Getting ROI\n",
    "    roi = image[y-10:y+h+10, x-10:x+w+10]\n",
    "    roi = cv2.resize(roi, dsize=(28,28), interpolation=cv2.INTER_CUBIC)\n",
    "    roi = cv2.cvtColor(roi,cv2.COLOR_BGR2GRAY)\n",
    "    \n",
    "    roi = np.array(roi)\n",
    "    t = np.copy(roi)\n",
    "    t = t / 255.0\n",
    "    t = 1-t\n",
    "    t = t.reshape(1,784)\n",
    "    \n",
    "    m.append(roi)\n",
    "    #pred = (model.predict(t) > 0.5).astype(\"int32\")\n",
    "    pred = model.predict_classes(t)\n",
    "    pchl.append(pred)\n",
    "\n",
    "pcw = list()\n",
    "interp = 'bilinear'\n",
    "fig, axs = plt.subplots(nrows=1, sharex=True, figsize=(2,2))\n",
    "pcw.append(characters[pred[0]])\n",
    "axs.set_title('-------> predicted letter: '+characters[pred[0]] ,x=2.5,y=0.2)\n",
    "axs.imshow(m[i], interpolation=interp)\n",
    "plt.show()\n",
    "\n",
    "predstring = ''.join(pcw)\n",
    "print('Predicted String: '+predstring)  "
   ]
  }
 ],
 "metadata": {
  "kernelspec": {
   "display_name": "Python 3.7.9 ('env': venv)",
   "language": "python",
   "name": "python3"
  },
  "language_info": {
   "codemirror_mode": {
    "name": "ipython",
    "version": 3
   },
   "file_extension": ".py",
   "mimetype": "text/x-python",
   "name": "python",
   "nbconvert_exporter": "python",
   "pygments_lexer": "ipython3",
   "version": "3.7.9"
  },
  "vscode": {
   "interpreter": {
    "hash": "1e88bf3f6fdfd88272fcd6483c1d2f4baae3250d74aa32df640a9594a4b02da8"
   }
  }
 },
 "nbformat": 4,
 "nbformat_minor": 2
}
